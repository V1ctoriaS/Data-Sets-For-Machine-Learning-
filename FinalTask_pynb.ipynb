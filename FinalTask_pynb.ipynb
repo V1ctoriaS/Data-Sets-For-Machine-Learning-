{
  "nbformat": 4,
  "nbformat_minor": 0,
  "metadata": {
    "colab": {
      "provenance": [],
      "authorship_tag": "ABX9TyMZUJFWRpLDkrscRgIcRxoo",
      "include_colab_link": true
    },
    "kernelspec": {
      "name": "python3",
      "display_name": "Python 3"
    },
    "language_info": {
      "name": "python"
    }
  },
  "cells": [
    {
      "cell_type": "markdown",
      "metadata": {
        "id": "view-in-github",
        "colab_type": "text"
      },
      "source": [
        "<a href=\"https://colab.research.google.com/github/V1ctoriaS/Data-Sets-For-Machine-Learning-/blob/main/FinalTask_pynb.ipynb\" target=\"_parent\"><img src=\"https://colab.research.google.com/assets/colab-badge.svg\" alt=\"Open In Colab\"/></a>"
      ]
    },
    {
      "cell_type": "code",
      "execution_count": 1,
      "metadata": {
        "id": "fpanF-B2zDWP"
      },
      "outputs": [],
      "source": [
        "import pandas as pd"
      ]
    },
    {
      "cell_type": "code",
      "source": [
        "import numpy as np"
      ],
      "metadata": {
        "id": "meRtFyPZzmcJ"
      },
      "execution_count": 2,
      "outputs": []
    },
    {
      "cell_type": "code",
      "source": [
        "import random"
      ],
      "metadata": {
        "id": "zfKm9JXWzqda"
      },
      "execution_count": 3,
      "outputs": []
    },
    {
      "cell_type": "code",
      "source": [
        "lst = ['robot'] * 10"
      ],
      "metadata": {
        "id": "vvCEkxixzr3y"
      },
      "execution_count": 4,
      "outputs": []
    },
    {
      "cell_type": "code",
      "source": [
        "lst += ['human'] * 10"
      ],
      "metadata": {
        "id": "mvp7bBeazw2E"
      },
      "execution_count": 5,
      "outputs": []
    },
    {
      "cell_type": "code",
      "source": [
        "random.shuffle(lst)"
      ],
      "metadata": {
        "id": "NNx1VoSKz0NJ"
      },
      "execution_count": 18,
      "outputs": []
    },
    {
      "cell_type": "code",
      "source": [
        "data = pd.DataFrame({'whoAmI': lst})"
      ],
      "metadata": {
        "id": "cFg_ISiXz3bG"
      },
      "execution_count": 19,
      "outputs": []
    },
    {
      "cell_type": "code",
      "source": [
        "print(data)"
      ],
      "metadata": {
        "colab": {
          "base_uri": "https://localhost:8080/"
        },
        "id": "OFBZDmPq0So3",
        "outputId": "65269783-e4c3-4c9e-f519-8ca81a397b67"
      },
      "execution_count": 20,
      "outputs": [
        {
          "output_type": "stream",
          "name": "stdout",
          "text": [
            "   whoAmI\n",
            "0   human\n",
            "1   human\n",
            "2   human\n",
            "3   robot\n",
            "4   human\n",
            "5   robot\n",
            "6   human\n",
            "7   robot\n",
            "8   human\n",
            "9   human\n",
            "10  robot\n",
            "11  robot\n",
            "12  robot\n",
            "13  human\n",
            "14  robot\n",
            "15  robot\n",
            "16  robot\n",
            "17  robot\n",
            "18  human\n",
            "19  human\n"
          ]
        }
      ]
    },
    {
      "cell_type": "code",
      "source": [
        "data['tmp'] = 1"
      ],
      "metadata": {
        "id": "MqjkNeuZ0cZH"
      },
      "execution_count": 21,
      "outputs": []
    },
    {
      "cell_type": "code",
      "source": [
        "data.set_index([data.index, 'whoAmI'], inplace=True)"
      ],
      "metadata": {
        "id": "vGkNp7eK0dDy"
      },
      "execution_count": 22,
      "outputs": []
    },
    {
      "cell_type": "code",
      "source": [
        "data = data.unstack(level=-1, fill_value = 0).astype(int)"
      ],
      "metadata": {
        "id": "-V5tMGbh0j4y"
      },
      "execution_count": 23,
      "outputs": []
    },
    {
      "cell_type": "code",
      "source": [
        "data.columns = data.columns.droplevel()"
      ],
      "metadata": {
        "id": "_bEfo_It0mjY"
      },
      "execution_count": 24,
      "outputs": []
    },
    {
      "cell_type": "code",
      "source": [
        "data.columns.name = None"
      ],
      "metadata": {
        "id": "95B5miYe0orT"
      },
      "execution_count": 25,
      "outputs": []
    },
    {
      "cell_type": "code",
      "source": [
        "print(data)"
      ],
      "metadata": {
        "colab": {
          "base_uri": "https://localhost:8080/"
        },
        "id": "gA5bUkgP0phN",
        "outputId": "f2700c27-fb3d-442f-e25e-7a8a6c51cbe9"
      },
      "execution_count": 27,
      "outputs": [
        {
          "output_type": "stream",
          "name": "stdout",
          "text": [
            "    human  robot\n",
            "0       1      0\n",
            "1       1      0\n",
            "2       1      0\n",
            "3       0      1\n",
            "4       1      0\n",
            "5       0      1\n",
            "6       1      0\n",
            "7       0      1\n",
            "8       1      0\n",
            "9       1      0\n",
            "10      0      1\n",
            "11      0      1\n",
            "12      0      1\n",
            "13      1      0\n",
            "14      0      1\n",
            "15      0      1\n",
            "16      0      1\n",
            "17      0      1\n",
            "18      1      0\n",
            "19      1      0\n"
          ]
        }
      ]
    }
  ]
}